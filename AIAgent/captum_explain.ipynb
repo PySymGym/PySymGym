{
 "cells": [
  {
   "cell_type": "code",
   "execution_count": 1,
   "metadata": {},
   "outputs": [],
   "source": [
    "import os\n",
    "import torch\n",
    "from ml.models.RGCNEdgeTypeTAG3VerticesDoubleHistory2Parametrized.model import (\n",
    "    StateModelEncoder,\n",
    ")\n",
    "from torch_geometric.explain import (\n",
    "    Explainer,\n",
    "    ModelConfig,\n",
    "    Explanation,\n",
    "    CaptumExplainer,\n",
    ")\n",
    "from ml.inference import TORCH\n",
    "import glob\n",
    "from ml.training.experimental_utils.explain.interface import hetero_forward\n",
    "\n",
    "\n",
    "SAMPLE_DIR = os.path.join(\"report\", \"small_sample\")\n",
    "dataset_sample = [\n",
    "    torch.load(path, weights_only=False, map_location=\"cpu\")\n",
    "    for path in glob.glob(f\"{SAMPLE_DIR}/*\")\n",
    "]\n",
    "\n",
    "PATH_TO_MODEL = os.path.join(\"report\", \"models\", \"model_78.pth\")\n",
    "weights = torch.load(PATH_TO_MODEL, map_location=\"cpu\", weights_only=True)"
   ]
  },
  {
   "cell_type": "code",
   "execution_count": 2,
   "metadata": {},
   "outputs": [],
   "source": [
    "hetero_encoder = hetero_forward(StateModelEncoder)\n",
    "model = hetero_encoder(\n",
    "    hidden_channels=82,\n",
    "    num_of_state_features=64,\n",
    "    num_hops_1=8,\n",
    "    num_hops_2=8,\n",
    "    normalization=True,\n",
    ")\n",
    "model.load_state_dict(weights)\n",
    "model_config = ModelConfig(\n",
    "    mode=\"multiclass_classification\", task_level=\"node\", return_type=\"log_probs\"\n",
    ")"
   ]
  },
  {
   "cell_type": "code",
   "execution_count": 4,
   "metadata": {},
   "outputs": [
    {
     "name": "stderr",
     "output_type": "stream",
     "text": [
      "/home/chivi/.pyenv/versions/3.12.2/envs/pysymgym3.12/lib/python3.12/site-packages/tqdm/auto.py:21: TqdmWarning: IProgress not found. Please update jupyter and ipywidgets. See https://ipywidgets.readthedocs.io/en/stable/user_install.html\n",
      "  from .autonotebook import tqdm as notebook_tqdm\n"
     ]
    }
   ],
   "source": [
    "captum_explainer = Explainer(\n",
    "    model,\n",
    "    algorithm=CaptumExplainer(\"IntegratedGradients\"),\n",
    "    explanation_type=\"model\",\n",
    "    model_config=model_config,\n",
    "    node_mask_type=\"attributes\",\n",
    ")\n",
    "captum_explainations: list[Explanation] = list()\n",
    "for data in dataset_sample:\n",
    "    del data[TORCH.statevertex_history_gamevertex]\n",
    "    del data[TORCH.statevertex_in_gamevertex]\n",
    "    captum_explainations.append(\n",
    "        captum_explainer(\n",
    "            data.x_dict,\n",
    "            data.edge_index_dict,\n",
    "            edge_type_dict=data.edge_type_dict,\n",
    "            edge_attr_dict=data.edge_attr_dict,\n",
    "        )\n",
    "    )\n"
   ]
  }
 ],
 "metadata": {
  "kernelspec": {
   "display_name": "pysymgym3.12",
   "language": "python",
   "name": "python3"
  },
  "language_info": {
   "codemirror_mode": {
    "name": "ipython",
    "version": 3
   },
   "file_extension": ".py",
   "mimetype": "text/x-python",
   "name": "python",
   "nbconvert_exporter": "python",
   "pygments_lexer": "ipython3",
   "version": "3.12.2"
  }
 },
 "nbformat": 4,
 "nbformat_minor": 2
}
